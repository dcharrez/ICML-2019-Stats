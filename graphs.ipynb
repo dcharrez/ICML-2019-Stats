{
 "cells": [
  {
   "cell_type": "code",
   "execution_count": 7,
   "metadata": {},
   "outputs": [],
   "source": [
    "import plotly.plotly as py\n",
    "import plotly.graph_objs as go\n",
    "import plotly.io as pio\n",
    "\n",
    "from IPython.display import Image\n",
    "\n",
    "from plotly.offline import download_plotlyjs, init_notebook_mode, plot, iplot"
   ]
  },
  {
   "cell_type": "code",
   "execution_count": 8,
   "metadata": {},
   "outputs": [],
   "source": [
    "import json\n",
    "\n",
    "n_authors_fileDir = \"datasets/n_authors_per_paper.json\"\n",
    "institution_fileDir = \"datasets/institution_dataset.json\"\n",
    "authors_fileDir = \"datasets/authors_dataset.json\""
   ]
  },
  {
   "cell_type": "code",
   "execution_count": 25,
   "metadata": {},
   "outputs": [
    {
     "data": {
      "text/html": [
       "        <script type=\"text/javascript\">\n",
       "        window.PlotlyConfig = {MathJaxConfig: 'local'};\n",
       "        if (window.MathJax) {MathJax.Hub.Config({SVG: {font: \"STIX-Web\"}});}\n",
       "        if (typeof require !== 'undefined') {\n",
       "        require.undef(\"plotly\");\n",
       "        requirejs.config({\n",
       "            paths: {\n",
       "                'plotly': ['https://cdn.plot.ly/plotly-latest.min']\n",
       "            }\n",
       "        });\n",
       "        require(['plotly'], function(Plotly) {\n",
       "            window._Plotly = Plotly;\n",
       "        });\n",
       "        }\n",
       "        </script>\n",
       "        "
      ]
     },
     "metadata": {},
     "output_type": "display_data"
    }
   ],
   "source": [
    "with open(n_authors_fileDir) as handle:\n",
    "    n_authors_per_paper = json.loads(handle.read())\n",
    "    \n",
    "# print(n_authors_per_paper)\n",
    "\n",
    "# print([x[0] for x in n_authors_per_paper])\n",
    "# print([y[1] for y in n_authors_per_paper])\n",
    "\n",
    "trace0 = go.Bar(\n",
    "            x = [x[0] for x in n_authors_per_paper],\n",
    "            y = [y[1] for y in n_authors_per_paper],\n",
    "            text=[y[1] for y in n_authors_per_paper],\n",
    "            textposition = 'auto',\n",
    "            name='Number of authors per paper',\n",
    "            marker=dict(\n",
    "                color='rgb(49,130,189)'\n",
    "            )\n",
    "    )\n",
    "\n",
    "data = [trace0]\n",
    "\n",
    "\n",
    "layout = go.Layout(\n",
    "    title=go.layout.Title(\n",
    "        text='Number of Authors per Paper',\n",
    "#         xref='paper'\n",
    "    ),\n",
    "    xaxis=go.layout.XAxis(\n",
    "        tickangle=0,\n",
    "        title=go.layout.xaxis.Title(\n",
    "            text='Number of authors',\n",
    "            font=dict(\n",
    "#                 family='Courier New, monospace',\n",
    "                size=18,\n",
    "                color='#7f7f7f'\n",
    "            )\n",
    "        )\n",
    "    ),\n",
    "    yaxis=go.layout.YAxis(\n",
    "        title=go.layout.yaxis.Title(\n",
    "            text='Papers with N Authors',\n",
    "            font=dict(\n",
    "#                 family='Courier New, monospace',\n",
    "                size=18,\n",
    "                color='#7f7f7f'\n",
    "            )\n",
    "        )\n",
    "    )\n",
    ")\n",
    "\n",
    "init_notebook_mode(connected=True)\n",
    "\n",
    "fig = go.Figure(data=data, layout=layout)\n",
    "\n",
    "static_image_bytes = pio.to_image(fig, format='png')\n",
    "Image(static_image_bytes)\n",
    "\n",
    "pio.write_image(fig, file='images/authors_per_paper.png', format='png')"
   ]
  },
  {
   "cell_type": "code",
   "execution_count": null,
   "metadata": {},
   "outputs": [],
   "source": [
    "\n"
   ]
  }
 ],
 "metadata": {
  "kernelspec": {
   "display_name": "Python 3",
   "language": "python",
   "name": "python3"
  },
  "language_info": {
   "codemirror_mode": {
    "name": "ipython",
    "version": 3
   },
   "file_extension": ".py",
   "mimetype": "text/x-python",
   "name": "python",
   "nbconvert_exporter": "python",
   "pygments_lexer": "ipython3",
   "version": "3.7.2"
  }
 },
 "nbformat": 4,
 "nbformat_minor": 2
}
